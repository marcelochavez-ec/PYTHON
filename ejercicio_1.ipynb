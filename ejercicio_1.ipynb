{
 "cells": [
  {
   "cell_type": "markdown",
   "metadata": {},
   "source": [
    "### Simple String matching Regular Expression Example :\n",
    "\n",
    "Here is importing a python re module and matching the strings."
   ]
  },
  {
   "cell_type": "code",
   "execution_count": 20,
   "metadata": {},
   "outputs": [
    {
     "name": "stdout",
     "output_type": "stream",
     "text": [
      "Matched!\n"
     ]
    }
   ],
   "source": [
    "# Esto sirve para todo un string completo:\n",
    "\n",
    "import re\n",
    "pattern = r\"Pythonista es el mejor programador\"\n",
    "sequence = \"Pythonista es el mejor programador\"\n",
    "if re.match(pattern, sequence):\n",
    "  print(\"Matched!\")\n",
    "else: print(\"Not a matched!\")"
   ]
  },
  {
   "cell_type": "markdown",
   "metadata": {},
   "source": [
    "#### * re.match() – Determine if the RE matches at the beginning of the string\n",
    "#### * re.search() – Scan through a string, looking for any location where this RE matches\n",
    "#### * re.findall() – Find all substrings where the RE matches, and returns them as a list "
   ]
  },
  {
   "cell_type": "markdown",
   "metadata": {},
   "source": [
    "### Python re.match() Function Example :\n",
    "\n",
    "##### Matching the word in a string."
   ]
  },
  {
   "cell_type": "code",
   "execution_count": 26,
   "metadata": {},
   "outputs": [
    {
     "name": "stdout",
     "output_type": "stream",
     "text": [
      "None\n"
     ]
    }
   ],
   "source": [
    "# Este comando busca únicamente en la primera posición\n",
    "msg = \"split the string in python\"\n",
    "print(re.match(\"the\",msg))"
   ]
  },
  {
   "cell_type": "code",
   "execution_count": 28,
   "metadata": {},
   "outputs": [
    {
     "name": "stdout",
     "output_type": "stream",
     "text": [
      "<re.Match object; span=(8, 10), match='he'>\n"
     ]
    }
   ],
   "source": [
    "# Este comando busca en todo el string\n",
    "msg = \"search the string in python\"\n",
    "print(re.search(\"he\", msg))"
   ]
  },
  {
   "cell_type": "markdown",
   "metadata": {},
   "source": [
    "### Matching Characters\n",
    "\n",
    "#### \\d Matches any decimal digit; this is equivalent to the class [0-9].\n",
    "\n",
    "#### \\D Matches any non-digit character; this is equivalent to the class [^0-9].\n",
    "\n",
    "#### \\s Matches any whitespace character; this is equivalent to the class [ \\t\\n\\r\\f\\v].\n",
    "\n",
    "#### \\S Matches any non-whitespace character; this is equivalent to the class [^ \\t\\n\\r\\f\\v].\n",
    "\n",
    "#### \\w Matches any alphanumeric character; this is equivalent to the class [a-zA-Z0-9_].\n",
    "\n",
    "#### \\W Matches any non-alphanumeric character; this is equivalent to the class [^a-zA-Z0-9_]."
   ]
  },
  {
   "cell_type": "markdown",
   "metadata": {},
   "source": [
    "#### Modifying Strings Functions in Python re\n",
    "\n",
    "Regular expressions are also commonly used to modify strings in various ways, using the following pattern functions:\n",
    "\n",
    "    split() – Split the string into a list, splitting it wherever the RE matches\n",
    "    sub() – Find all substrings where the RE matches, and replace them with a different string\n",
    "    subn() – Does the same thing as sub(), but returns the new string and the number of replacements"
   ]
  },
  {
   "cell_type": "markdown",
   "metadata": {},
   "source": [
    "#### Python re – re.split function\n",
    "\n",
    "\\s – Matches whitespace. Equivalent to [\\t\\n\\r\\f]."
   ]
  },
  {
   "cell_type": "code",
   "execution_count": 37,
   "metadata": {},
   "outputs": [
    {
     "name": "stdout",
     "output_type": "stream",
     "text": [
      "['split', 'the', 'string', 'in', 'python']\n"
     ]
    }
   ],
   "source": [
    "msg = \"split-the-string-in-python\"\n",
    "print(re.split(\"-\", msg))"
   ]
  },
  {
   "cell_type": "markdown",
   "metadata": {},
   "source": [
    "#### Python Search and Replace – sub() and subn()Function \n",
    "\n",
    "The sub() method takes a replacement value, which can be either a string or a function, and the string to be processed."
   ]
  },
  {
   "cell_type": "code",
   "execution_count": 38,
   "metadata": {},
   "outputs": [
    {
     "name": "stdout",
     "output_type": "stream",
     "text": [
      "search the number in python\n"
     ]
    }
   ],
   "source": [
    "msg = \"search the string in python\"\n",
    "print(re.sub('string', 'number', msg))"
   ]
  },
  {
   "cell_type": "markdown",
   "metadata": {},
   "source": [
    "The subn() method does the same work, but returns a 2-tuple containing the new string value and the number of \n",
    "replacements that were performed:"
   ]
  },
  {
   "cell_type": "code",
   "execution_count": 39,
   "metadata": {},
   "outputs": [
    {
     "name": "stdout",
     "output_type": "stream",
     "text": [
      "('search the number in python', 1)\n"
     ]
    }
   ],
   "source": [
    "msg = \"search the string in python\"\n",
    "print(re.subn('string', 'number', msg))"
   ]
  },
  {
   "cell_type": "markdown",
   "metadata": {},
   "source": [
    "Para más documentación puede ingresar a:\n",
    "[Expresiones Regulares Python: ](https://docs.python.org/3/howto/regex.html)"
   ]
  }
 ],
 "metadata": {
  "kernelspec": {
   "display_name": "Python 3",
   "language": "python",
   "name": "python3"
  },
  "language_info": {
   "codemirror_mode": {
    "name": "ipython",
    "version": 3
   },
   "file_extension": ".py",
   "mimetype": "text/x-python",
   "name": "python",
   "nbconvert_exporter": "python",
   "pygments_lexer": "ipython3",
   "version": "3.7.7"
  }
 },
 "nbformat": 4,
 "nbformat_minor": 4
}
